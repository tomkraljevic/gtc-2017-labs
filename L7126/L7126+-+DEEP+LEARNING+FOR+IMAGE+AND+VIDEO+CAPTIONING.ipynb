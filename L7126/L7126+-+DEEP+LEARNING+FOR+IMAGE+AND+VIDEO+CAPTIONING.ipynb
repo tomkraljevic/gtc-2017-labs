{
 "cells": [
  {
   "cell_type": "markdown",
   "metadata": {},
   "source": [
    "![alt text](16_DeepLearningInstitute_Logo_R11-RGB_Frame-04.png \"DLI_LOGO\")"
   ]
  },
  {
   "cell_type": "markdown",
   "metadata": {},
   "source": [
    "## L7126 - DEEP LEARNING FOR IMAGE AND VIDEO CAPTIONING\n",
    "\n",
    "Presented by NVIDIA's Deep Learning Institute\n",
    "\n",
    "Created by Allison Gray and Myrieme Demouth\n",
    "\n",
    "This lab has been prepared for NVIDIA's 2017 GPU Technology conference and is comprised of four main tasks.\n",
    "\n",
    "Deep learning is being used today in a variety of different ways. In this lab, attendees will learn about how to use convolutional neural networks to perform classification and recurrent neural networks for character and sentence generation. Then we will combine these two techniques to generate captions for images and videos.\n",
    "\n"
   ]
  },
  {
   "cell_type": "markdown",
   "metadata": {},
   "source": [
    "#### [Task 1 Convolutional Neural Networks](classification/Classification.ipynb)\n",
    "This exercise explores how to get started with TensorFlow and convolutional neural networks (CNNs). A dataset of paintings by Van Gogh and others are used to create a binary classifier."
   ]
  },
  {
   "cell_type": "markdown",
   "metadata": {},
   "source": [
    "#### [Task 2 Recurrent Neural Networks](wordprediction/RecurrentNeuralNetwork.ipynb)\n",
    "In this part of the lab, we will demonstrate the power of RNNs with character and code generation examples. Participants will explore and experiment RNNs, learn how to configure, and use them to generate sentences. The captions from MSCOCO dataset will be used to train an RNN with different network parameters."
   ]
  },
  {
   "cell_type": "markdown",
   "metadata": {},
   "source": [
    "#### [Task 3 Image Captioning](imagecaptioning/MSCOCO_Captioning.ipynb)\n",
    "Image captioning can be performed by combining a CNN with an RNN. Attendees will get hands-on experience with combining data from CNNs with RNNs. The MSCOCO images and captions will be used to train and finetune a network to generate captions."
   ]
  },
  {
   "cell_type": "markdown",
   "metadata": {},
   "source": [
    "#### [Task 4 Video Captioning](videocaptioning/VideoCaptioning.ipynb)\n",
    "In this last part, we will combine all the things we learned about in the previous three tasks to generate captions about video clips."
   ]
  }
 ],
 "metadata": {
  "kernelspec": {
   "display_name": "Python 2",
   "language": "python",
   "name": "python2"
  },
  "language_info": {
   "codemirror_mode": {
    "name": "ipython",
    "version": 2
   },
   "file_extension": ".py",
   "mimetype": "text/x-python",
   "name": "python",
   "nbconvert_exporter": "python",
   "pygments_lexer": "ipython2",
   "version": "2.7.12"
  }
 },
 "nbformat": 4,
 "nbformat_minor": 2
}
